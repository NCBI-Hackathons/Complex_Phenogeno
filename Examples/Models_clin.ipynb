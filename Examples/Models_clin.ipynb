{
 "cells": [
  {
   "cell_type": "code",
   "execution_count": 9,
   "metadata": {},
   "outputs": [
    {
     "name": "stdout",
     "output_type": "stream",
     "text": [
      "What is the name of the csv file holding the clinical data? \n",
      " (If using the toy datasets, the name should be: fertility)\n",
      "fertility\n",
      "What is the name of the column in your clinical dataset fertility.csv that holds the values of the risk factor (regressor)?Age\n",
      "What fraction of the clinical data do you want to use for training? (Recommended is 0.7) 0.65\n"
     ]
    },
    {
     "name": "stderr",
     "output_type": "stream",
     "text": [
      "  2% (1 of 50) |                          | Elapsed Time: 0:00:00 ETA:  0:00:06"
     ]
    },
    {
     "name": "stdout",
     "output_type": "stream",
     "text": [
      "##############\tCalculating Linear Regression Model ########################\n"
     ]
    },
    {
     "name": "stderr",
     "output_type": "stream",
     "text": [
      "100% (50 of 50) |#########################| Elapsed Time: 0:00:05 Time: 0:00:05\n",
      "N/A% (0 of 50) |                         | Elapsed Time: 0:00:00 ETA:  --:--:--"
     ]
    },
    {
     "name": "stdout",
     "output_type": "stream",
     "text": [
      "The AUC for the LM is 0.74, stdev = 0.03.\n",
      "##############\tCalculating Random Forest Model ########################\n"
     ]
    },
    {
     "name": "stderr",
     "output_type": "stream",
     "text": [
      "100% (50 of 50) |#########################| Elapsed Time: 0:07:12 Time: 0:07:12\n"
     ]
    },
    {
     "name": "stdout",
     "output_type": "stream",
     "text": [
      "Tree depth of 4 has average AUC of 0.71 with stdev 0.01\n",
      "Tree depth of 6 has average AUC of 0.71 with stdev 0.01\n",
      "Tree depth of 8 has average AUC of 0.72 with stdev 0.02\n",
      "Tree depth of 10 has average AUC of 0.71 with stdev 0.01\n",
      "Tree depth of 12 has average AUC of 0.72 with stdev 0.01\n",
      "Tree depth of 14 has average AUC of 0.72 with stdev 0.01\n",
      "Tree depth of 16 has average AUC of 0.71 with stdev 0.01\n",
      "Tree depth of 18 has average AUC of 0.71 with stdev 0.01\n",
      "Tree depth of 20 has average AUC of 0.71 with stdev 0.02\n",
      "Tree depth of 22 has average AUC of 0.71 with stdev 0.01\n",
      "Tree depth of 24 has average AUC of 0.72 with stdev 0.01\n",
      "Tree depth of 26 has average AUC of 0.71 with stdev 0.02\n",
      "Tree depth of 28 has average AUC of 0.71 with stdev 0.01\n",
      "Tree depth of 30 has average AUC of 0.72 with stdev 0.01\n",
      "Tree depth of 32 has average AUC of 0.71 with stdev 0.01\n",
      "Tree depth of 34 has average AUC of 0.71 with stdev 0.01\n",
      "Tree depth of 36 has average AUC of 0.71 with stdev 0.02\n",
      "Tree depth of 38 has average AUC of 0.71 with stdev 0.02\n",
      "Tree depth of 40 has average AUC of 0.72 with stdev 0.01\n",
      "Tree depth of 42 has average AUC of 0.71 with stdev 0.01\n",
      "Tree depth of 44 has average AUC of 0.71 with stdev 0.01\n",
      "Tree depth of 46 has average AUC of 0.71 with stdev 0.01\n",
      "Tree depth of 48 has average AUC of 0.71 with stdev 0.02\n",
      "Tree depth of 50 has average AUC of 0.71 with stdev 0.01\n",
      "\n",
      "\n",
      "Do you want to proceed with the linear regression model (LR) or random forest (RF) model?RF\n",
      "OK. What tree depth do you pick?10\n"
     ]
    }
   ],
   "source": [
    "import Models_clin"
   ]
  },
  {
   "cell_type": "code",
   "execution_count": 11,
   "metadata": {},
   "outputs": [
    {
     "data": {
      "text/html": [
       "<div>\n",
       "<style>\n",
       "    .dataframe thead tr:only-child th {\n",
       "        text-align: right;\n",
       "    }\n",
       "\n",
       "    .dataframe thead th {\n",
       "        text-align: left;\n",
       "    }\n",
       "\n",
       "    .dataframe tbody tr th {\n",
       "        vertical-align: top;\n",
       "    }\n",
       "</style>\n",
       "<table border=\"1\" class=\"dataframe\">\n",
       "  <thead>\n",
       "    <tr style=\"text-align: right;\">\n",
       "      <th></th>\n",
       "      <th>Unnamed: 0</th>\n",
       "      <th>ID</th>\n",
       "      <th>o/e</th>\n",
       "      <th>residual</th>\n",
       "    </tr>\n",
       "  </thead>\n",
       "  <tbody>\n",
       "    <tr>\n",
       "      <th>0</th>\n",
       "      <td>0</td>\n",
       "      <td>1</td>\n",
       "      <td>1.000000</td>\n",
       "      <td>0</td>\n",
       "    </tr>\n",
       "    <tr>\n",
       "      <th>1</th>\n",
       "      <td>1</td>\n",
       "      <td>2</td>\n",
       "      <td>1.121212</td>\n",
       "      <td>4</td>\n",
       "    </tr>\n",
       "    <tr>\n",
       "      <th>2</th>\n",
       "      <td>2</td>\n",
       "      <td>3</td>\n",
       "      <td>1.000000</td>\n",
       "      <td>0</td>\n",
       "    </tr>\n",
       "    <tr>\n",
       "      <th>3</th>\n",
       "      <td>3</td>\n",
       "      <td>4</td>\n",
       "      <td>1.000000</td>\n",
       "      <td>0</td>\n",
       "    </tr>\n",
       "    <tr>\n",
       "      <th>4</th>\n",
       "      <td>4</td>\n",
       "      <td>5</td>\n",
       "      <td>0.857143</td>\n",
       "      <td>-5</td>\n",
       "    </tr>\n",
       "  </tbody>\n",
       "</table>\n",
       "</div>"
      ],
      "text/plain": [
       "   Unnamed: 0  ID       o/e  residual\n",
       "0           0   1  1.000000         0\n",
       "1           1   2  1.121212         4\n",
       "2           2   3  1.000000         0\n",
       "3           3   4  1.000000         0\n",
       "4           4   5  0.857143        -5"
      ]
     },
     "execution_count": 11,
     "metadata": {},
     "output_type": "execute_result"
    }
   ],
   "source": [
    "import pandas as pd\n",
    "pd.read_csv(\"./../Outputs/Clinical_deviations.csv\").head()"
   ]
  }
 ],
 "metadata": {
  "kernelspec": {
   "display_name": "Python 3",
   "language": "python",
   "name": "python3"
  },
  "language_info": {
   "codemirror_mode": {
    "name": "ipython",
    "version": 3
   },
   "file_extension": ".py",
   "mimetype": "text/x-python",
   "name": "python",
   "nbconvert_exporter": "python",
   "pygments_lexer": "ipython3",
   "version": "3.6.2"
  }
 },
 "nbformat": 4,
 "nbformat_minor": 2
}
