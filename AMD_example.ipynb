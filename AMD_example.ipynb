{
 "cells": [
  {
   "cell_type": "markdown",
   "metadata": {},
   "source": [
    "### Complex Pheno/Geno workflow\n",
    "\n",
    "For this to run you need to have a file Settings.py with a single line:\n",
    "\n",
    "EMAIL = username@something.something  (This is the email you have used to register in NCBI)"
   ]
  },
  {
   "cell_type": "code",
   "execution_count": 11,
   "metadata": {},
   "outputs": [
    {
     "name": "stdout",
     "output_type": "stream",
     "text": [
      "\n",
      "  ____                      _           \n",
      " / ___|___  _ __ ___  _ __ | | _____  __\n",
      "| |   / _ \\| '_ ` _ \\| '_ \\| |/ _ \\ \\/ /\n",
      "| |__| (_) | | | | | | |_) | |  __/>  < \n",
      " \\____\\___/|_| |_| |_| .__/|_|\\___/_/\\_\\\n",
      "                     |_|  \n",
      "                     \n",
      "                     \n",
      " ____  _                        ______                  \n",
      "|  _ \\| |__   ___ _ __   ___   / / ___| ___ _ __   ___  \n",
      "| |_) | '_ \\ / _ \\ '_ \\ / _ \\ / / |  _ / _ \\ '_ \\ / _ \\ \n",
      "|  __/| | | |  __/ | | | (_) / /| |_| |  __/ | | | (_) |\n",
      "|_|   |_| |_|\\___|_| |_|\\___/_/  \\____|\\___|_| |_|\\___/ \n",
      "                    \n",
      "\n",
      "\n",
      "Complex Pheno/Geno is written for Python 3.6 and is under development.\n",
      "Please make sure plink 1.9 (https://www.cog-genomics.org/plink2) is installed in your computer before continuing.\n",
      "For comments and suggestions e-mail rodoniki@gmail.com\n",
      "\n",
      "\n",
      "Please make sure all the input files are in a subdirectory in the same folder as Complex Pheno/Geno.\n",
      "The folder should be named Inputs/\n",
      "Do you want to proceed? (yes/no):yes\n",
      "\n",
      "As a first step, you will need to confirm that your querry rsID returns results from literature that are specific to your complex disease of interest.\n",
      "\n",
      "Please enter a querry rsID number (do not include the letters 'rs'): 800292\n",
      "A new web browser window has opened that is showing the PhenVar results for rs800292\n",
      "\n",
      "If you are satisfied with the results and want to continue with the analysis, please enter 'YES'.\n",
      "If you want to enter another rsID, please enter 'NO'. yes\n"
     ]
    },
    {
     "name": "stderr",
     "output_type": "stream",
     "text": [
      "100% (128 of 128) |#######################| Elapsed Time: 0:00:42 Time: 0:00:42\n"
     ]
    },
    {
     "name": "stdout",
     "output_type": "stream",
     "text": [
      "\n",
      "A total of 757 unique rsIDs were retrieved from 128 PMIDs using rs800292 as a search term\n",
      "201 rsIDs are cited by more than 1 PMIDs\n",
      "99 rsIDs are cited by more than 2 PMIDs\n",
      "59 rsIDs are cited by more than 3 PMIDs\n",
      "49 rsIDs are cited by more than 4 PMIDs\n",
      "39 rsIDs are cited by more than 5 PMIDs\n",
      "36 rsIDs are cited by more than 6 PMIDs\n",
      "28 rsIDs are cited by more than 7 PMIDs\n",
      "24 rsIDs are cited by more than 8 PMIDs\n",
      "19 rsIDs are cited by more than 9 PMIDs\n",
      "17 rsIDs are cited by more than 10 PMIDs\n",
      "16 rsIDs are cited by more than 11 PMIDs\n",
      "14 rsIDs are cited by more than 12 PMIDs\n",
      "13 rsIDs are cited by more than 13 PMIDs\n",
      "12 rsIDs are cited by more than 15 PMIDs\n",
      "11 rsIDs are cited by more than 16 PMIDs\n",
      "9 rsIDs are cited by more than 18 PMIDs\n",
      "8 rsIDs are cited by more than 20 PMIDs\n",
      "7 rsIDs are cited by more than 23 PMIDs\n",
      "6 rsIDs are cited by more than 24 PMIDs\n",
      "5 rsIDs are cited by more than 26 PMIDs\n",
      "4 rsIDs are cited by more than 32 PMIDs\n",
      "3 rsIDs are cited by more than 37 PMIDs\n",
      "2 rsIDs are cited by more than 64 PMIDs\n",
      "1 rsIDs are cited by more than 84 PMIDs\n",
      "0 rsIDs are cited by more than 128 PMIDs\n",
      "What is the minimum acceptable number of publications supporting each rsID you want to consider?\n",
      "Possible values are between 1 and 84.\n",
      "3\n",
      "\n",
      "You have selected to analyse 99 different rsIDs that are co-cited together with rs800292 (included).\n"
     ]
    }
   ],
   "source": [
    "import ComplexPhenoGeno"
   ]
  },
  {
   "cell_type": "markdown",
   "metadata": {},
   "source": [
    "**PhenVar result**\n",
    "https://phenvar.colorado.edu/results/?rsids=800292&visualization=png-wordcloud&visualization=js-graph&normalization_type=default"
   ]
  },
  {
   "cell_type": "code",
   "execution_count": 12,
   "metadata": {},
   "outputs": [
    {
     "ename": "NameError",
     "evalue": "name 'rsIDs' is not defined",
     "output_type": "error",
     "traceback": [
      "\u001b[0;31m---------------------------------------------------------------------------\u001b[0m",
      "\u001b[0;31mNameError\u001b[0m                                 Traceback (most recent call last)",
      "\u001b[0;32m<ipython-input-12-2febe7b25ec0>\u001b[0m in \u001b[0;36m<module>\u001b[0;34m()\u001b[0m\n\u001b[0;32m----> 1\u001b[0;31m \u001b[0mprint\u001b[0m\u001b[0;34m(\u001b[0m\u001b[0mrsIDs\u001b[0m\u001b[0;34m)\u001b[0m\u001b[0;34m\u001b[0m\u001b[0m\n\u001b[0m",
      "\u001b[0;31mNameError\u001b[0m: name 'rsIDs' is not defined"
     ]
    }
   ],
   "source": []
  },
  {
   "cell_type": "code",
   "execution_count": null,
   "metadata": {
    "collapsed": true
   },
   "outputs": [],
   "source": []
  }
 ],
 "metadata": {
  "kernelspec": {
   "display_name": "Python 3",
   "language": "python",
   "name": "python3"
  },
  "language_info": {
   "codemirror_mode": {
    "name": "ipython",
    "version": 3
   },
   "file_extension": ".py",
   "mimetype": "text/x-python",
   "name": "python",
   "nbconvert_exporter": "python",
   "pygments_lexer": "ipython3",
   "version": "3.6.2"
  }
 },
 "nbformat": 4,
 "nbformat_minor": 2
}
