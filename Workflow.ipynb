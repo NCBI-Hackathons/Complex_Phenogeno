{
 "cells": [
  {
   "cell_type": "markdown",
   "metadata": {},
   "source": [
    "### Complex Pheno/Geno workflow\n",
    "\n",
    "This is the Complex Pheno/Geno workflow to be implemented as a web-based app using FLASK"
   ]
  },
  {
   "cell_type": "code",
   "execution_count": 2,
   "metadata": {
    "collapsed": true
   },
   "outputs": [],
   "source": [
    "from Bio import Entrez\n",
    "from Settings import EMAIL # requires the presence of file Settings.py in current directory "
   ]
  },
  {
   "cell_type": "code",
   "execution_count": 3,
   "metadata": {
    "collapsed": true
   },
   "outputs": [],
   "source": [
    "Entrez.email = EMAIL\n",
    "# At Settings.py file: EMAIL = <username>@<something>.<something>\n",
    "# This is the email you hav eused to register in NCBI"
   ]
  },
  {
   "cell_type": "markdown",
   "metadata": {},
   "source": [
    "##### 1. Enter rsID\n",
    "User is asked to enter the rsID that they know is associated with the complex disease of interest.\n",
    "They are given the option to proceed with the analysis or to use PhenVar in order to check that the specific rsID is returning expected results (wordcloud and D3 graph) "
   ]
  },
  {
   "cell_type": "code",
   "execution_count": 5,
   "metadata": {},
   "outputs": [
    {
     "name": "stdout",
     "output_type": "stream",
     "text": [
      "Please enter an rsID number (do not include the letters 'rs'): 800292\n"
     ]
    }
   ],
   "source": [
    "#get PMIDs from single rsID \n",
    "\n",
    "ID =input(\"Please enter an rsID number (do not include the letters 'rs'): \")"
   ]
  },
  {
   "cell_type": "code",
   "execution_count": 6,
   "metadata": {},
   "outputs": [
    {
     "name": "stdout",
     "output_type": "stream",
     "text": [
      "Do you want to proceed with analysis?\n",
      "Answering \"no\" will redirect to the PhenVar results for the given rsID. \n",
      "Answering \"yes\" will take you to the next step where you will be required to enter VCF files. \n",
      "Your answer: no\n"
     ]
    }
   ],
   "source": [
    "print('Do you want to proceed with analysis?')\n",
    "print('Answering \"no\" will redirect to the PhenVar results for the given rsID. ')\n",
    "print('Answering \"yes\" will take you to the next step where you will be required to enter VCF files. ')\n",
    "conditional = input('Your answer: ')"
   ]
  },
  {
   "cell_type": "code",
   "execution_count": 125,
   "metadata": {},
   "outputs": [
    {
     "name": "stdout",
     "output_type": "stream",
     "text": [
      "https://phenvar.colorado.edu/results/?rsids=800292&visualization=png-wordcloud&visualization=js-graph&normalization_type=default\n"
     ]
    }
   ],
   "source": [
    "conditional = conditional.lower()\n",
    "if conditional == 'no':\n",
    "    url = 'https://phenvar.colorado.edu/results/?rsids='+ID+'&visualization=png-wordcloud&visualization=js-graph&normalization_type=default'\n",
    "    print(url)\n",
    "    \n",
    "    import webbrowser\n",
    "    webbrowser.open_new(url)\n",
    "    #also works in Terminal as: python -m webbrowser -t \"http://www.python.org\" \n",
    "    \n",
    "elif conditional != 'yes':\n",
    "    print('Please go back and enter either \"yes\" or \"no\".')"
   ]
  },
  {
   "cell_type": "code",
   "execution_count": 216,
   "metadata": {},
   "outputs": [
    {
     "name": "stdout",
     "output_type": "stream",
     "text": [
      "There were 128 PMIDs retrieved that are related to rs800292\n"
     ]
    }
   ],
   "source": [
    "data =  Entrez.read(Entrez.elink(dbfrom='snp', db = 'pubmed', linkname='snp_pubmed_cited', id=ID))\n",
    "pmids =  [id_dict['Id'] for id_dict in data[0]['LinkSetDb'][0][\"Link\"]]\n",
    "print('There were {} PMIDs retrieved that are related to rs{}'.format(len(pmids), ID))"
   ]
  },
  {
   "cell_type": "code",
   "execution_count": 220,
   "metadata": {},
   "outputs": [],
   "source": [
    "rsids = []\n",
    "for pmid in pmids:\n",
    "    try:\n",
    "        data = Entrez.read(Entrez.elink(dbfrom='pubmed',db='snp',linkname='pubmed_snp_cited',id=pmid))\n",
    "        rsids.extend([id_dict['Id'] for id_dict in data[0]['LinkSetDb'][0]['Link']])\n",
    "    except:\n",
    "        print(\"There has been some problem with your connection. Please try again.\")\n",
    "        import sys\n",
    "        sys.exit() #terminates all scripts running. To terminate only script that contains this try/except use quit()"
   ]
  },
  {
   "cell_type": "code",
   "execution_count": 385,
   "metadata": {},
   "outputs": [
    {
     "name": "stdout",
     "output_type": "stream",
     "text": [
      "A total of 757 unique rsIDs were retrieved from 128 PMIDs using rs800292 as a search term\n",
      "\n"
     ]
    }
   ],
   "source": [
    "#remove duplicates and turn dict to a list of all the rsIDs, regardless of how many publications support them\n",
    "rsidSet = [id for id in set(rsids)]\n",
    "\n",
    "print('A total of {} unique rsIDs were retrieved from {} PMIDs using rs{} as a search term\\n'.format(len(rsidSet), len(pmids),ID))"
   ]
  },
  {
   "cell_type": "markdown",
   "metadata": {},
   "source": [
    "##### 2. Filter retrieved rsIDs by number of supporting publications"
   ]
  },
  {
   "cell_type": "code",
   "execution_count": 398,
   "metadata": {
    "collapsed": true
   },
   "outputs": [],
   "source": [
    "#create a dictionary where the key is the number of publications supporting each rsID and values are the actual rsIDs\n",
    "from collections import Counter\n",
    "from Functions import rev_dict"
   ]
  },
  {
   "cell_type": "code",
   "execution_count": 399,
   "metadata": {},
   "outputs": [],
   "source": [
    "rsDict = rev_dict(Counter(rsids)) \n",
    " \n",
    "#The following creates a list with the distinct numbers of supporting information in the results, ordered\n",
    "numPmids = [i for i in set(rsDict.keys())]\n",
    "numPmids.sort()"
   ]
  },
  {
   "cell_type": "code",
   "execution_count": 400,
   "metadata": {},
   "outputs": [
    {
     "name": "stdout",
     "output_type": "stream",
     "text": [
      "201 rsIDs are cited by more than 1 PMIDs\n",
      "99 rsIDs are cited by more than 2 PMIDs\n",
      "59 rsIDs are cited by more than 3 PMIDs\n",
      "49 rsIDs are cited by more than 4 PMIDs\n",
      "39 rsIDs are cited by more than 5 PMIDs\n",
      "36 rsIDs are cited by more than 6 PMIDs\n",
      "28 rsIDs are cited by more than 7 PMIDs\n",
      "24 rsIDs are cited by more than 8 PMIDs\n",
      "19 rsIDs are cited by more than 9 PMIDs\n",
      "17 rsIDs are cited by more than 10 PMIDs\n",
      "16 rsIDs are cited by more than 11 PMIDs\n",
      "14 rsIDs are cited by more than 12 PMIDs\n",
      "13 rsIDs are cited by more than 13 PMIDs\n",
      "12 rsIDs are cited by more than 15 PMIDs\n",
      "11 rsIDs are cited by more than 16 PMIDs\n",
      "9 rsIDs are cited by more than 18 PMIDs\n",
      "8 rsIDs are cited by more than 20 PMIDs\n",
      "7 rsIDs are cited by more than 23 PMIDs\n",
      "6 rsIDs are cited by more than 24 PMIDs\n",
      "5 rsIDs are cited by more than 26 PMIDs\n",
      "4 rsIDs are cited by more than 32 PMIDs\n",
      "3 rsIDs are cited by more than 37 PMIDs\n",
      "2 rsIDs are cited by more than 64 PMIDs\n",
      "1 rsIDs are cited by more than 84 PMIDs\n",
      "0 rsIDs are cited by more than 128 PMIDs\n"
     ]
    }
   ],
   "source": [
    "temp = rsiDict.copy()\n",
    "#[item for sublist in temp.values() for item in sublist]\n",
    "for i in numPmids:\n",
    "    temp.pop(i,0)\n",
    "    print('{} rsIDs are cited by more than {} PMIDs'.format(len([item for sublist in temp.values() for item in sublist]), i))"
   ]
  },
  {
   "cell_type": "code",
   "execution_count": 426,
   "metadata": {},
   "outputs": [
    {
     "name": "stdout",
     "output_type": "stream",
     "text": [
      "What is the minimum acceptable number of publications supporting each rsID you want to consider?\n",
      "Possible values are between 1 and 84.\n",
      "2\n",
      "\n",
      "You have selected to analyse 201 different rsIDs that are co-cited together with rs800292 (included).\n"
     ]
    }
   ],
   "source": [
    "condition_filter = False\n",
    "while condition_filter == False:\n",
    "    print(\"What is the minimum acceptable number of publications supporting each rsID you want to consider?\")\n",
    "    print(\"Possible values are between 1 and {}.\".format(max(numPmids[0:len(numPmids)-1])))\n",
    "    no = int(input(''))\n",
    "    if no <= max(numPmids[0:len(numPmids)-1]):\n",
    "        selected_rsids = []\n",
    "        for i in numPmids[::-1]:\n",
    "            if i >= no:\n",
    "                selected_rsids.extend(rsDict[i])\n",
    "        selected_rsids = set(selected_rsids)\n",
    "        condition_filter = True\n",
    "    else:\n",
    "        print(\"You have not entered a value between 1 and {}. Please retry.\\n\".format(max(numPmids[0:len(numPmids)-1])))\n",
    "print('\\nYou have selected to analyse {} different rsIDs that are co-cited together with rs{} (included).'.format(len(selected_rsids), ID))"
   ]
  },
  {
   "cell_type": "code",
   "execution_count": 424,
   "metadata": {},
   "outputs": [
    {
     "name": "stdout",
     "output_type": "stream",
     "text": [
      "<class 'list'>\n"
     ]
    },
    {
     "ename": "AttributeError",
     "evalue": "'set' object has no attribute 'extend'",
     "output_type": "error",
     "traceback": [
      "\u001b[0;31m---------------------------------------------------------------------------\u001b[0m",
      "\u001b[0;31mAttributeError\u001b[0m                            Traceback (most recent call last)",
      "\u001b[0;32m<ipython-input-424-d3734d9d2379>\u001b[0m in \u001b[0;36m<module>\u001b[0;34m()\u001b[0m\n\u001b[1;32m      2\u001b[0m \u001b[0mprint\u001b[0m\u001b[0;34m(\u001b[0m\u001b[0mtype\u001b[0m\u001b[0;34m(\u001b[0m\u001b[0mselected_rsids\u001b[0m\u001b[0;34m)\u001b[0m\u001b[0;34m)\u001b[0m\u001b[0;34m\u001b[0m\u001b[0m\n\u001b[1;32m      3\u001b[0m \u001b[0;32mfor\u001b[0m \u001b[0mi\u001b[0m \u001b[0;32min\u001b[0m \u001b[0mnumPmids\u001b[0m\u001b[0;34m[\u001b[0m\u001b[0;34m:\u001b[0m\u001b[0;34m:\u001b[0m\u001b[0;34m-\u001b[0m\u001b[0;36m1\u001b[0m\u001b[0;34m]\u001b[0m\u001b[0;34m:\u001b[0m\u001b[0;34m\u001b[0m\u001b[0m\n\u001b[0;32m----> 4\u001b[0;31m     \u001b[0mselected_rsids\u001b[0m\u001b[0;34m.\u001b[0m\u001b[0mextend\u001b[0m\u001b[0;34m(\u001b[0m\u001b[0mrsDict\u001b[0m\u001b[0;34m[\u001b[0m\u001b[0mi\u001b[0m\u001b[0;34m]\u001b[0m\u001b[0;34m)\u001b[0m\u001b[0;34m\u001b[0m\u001b[0m\n\u001b[0m\u001b[1;32m      5\u001b[0m     \u001b[0mselected_rsids\u001b[0m \u001b[0;34m=\u001b[0m \u001b[0mset\u001b[0m\u001b[0;34m(\u001b[0m\u001b[0mselected_rsids\u001b[0m\u001b[0;34m)\u001b[0m\u001b[0;34m\u001b[0m\u001b[0m\n",
      "\u001b[0;31mAttributeError\u001b[0m: 'set' object has no attribute 'extend'"
     ]
    }
   ],
   "source": [
    "selected_rsids = []\n",
    "print(type(selected_rsids))\n",
    "for i in numPmids[::-1]:\n",
    "    selected_rsids.extend(rsDict[i])\n",
    "    selected_rsids = set(selected_rsids)\n"
   ]
  },
  {
   "cell_type": "code",
   "execution_count": 422,
   "metadata": {},
   "outputs": [
    {
     "name": "stdout",
     "output_type": "stream",
     "text": [
      "['2241392', '17030', '667604', '13207351', '12255372', '10759931', '7903146', '7901695', '6060566', '4986791', '3759890', '3134069', '2228570', '2073618', '1927914', '1801282', '1801133', '1800629', '1800592', '1799983', '1617640', '1544410', '1024611', '1002630', '854560', '833070', '833061', '660339', '551238', '507392', '361525', '39059', '7493', '5498', '662', '2075650', '1531289', '35507625', '2071559', '3790414', '876538', '2736912', '833069', '3811381', '2274567', '2876849', '1329424', '2284665', '10857341', '9542236', '4854022', '4711751', '3130783', '2014307', '1999930', '1831282', '1447338', '713586', '522162', '12678919', '10757278', '3880457', '3025033', '2808635', '2075702', '699946', '3812111', '433594', '482934', '11582939', '7517126', '1048663', '388862', '2672587', '2253755', '403846', '393955', '4788084', '4505848', '12124794', '7542235', '6663083', '1759016', '10486525', '10486523', '10486521', '10486519', '10254116', '4723261', '1420150', '1049024', '964707', '764127', '419137', '1329423', '2990510', '1045216', '760336', '6003', '2019724', '6680396', '70620', '2241392', '17030', '667604', '13207351', '12255372', '10759931', '7903146', '7901695', '6060566', '4986791', '3759890', '3134069', '2228570', '2073618', '1927914', '1801282', '1801133', '1800629', '1800592', '1799983', '1617640', '1544410', '1024611', '1002630', '854560', '833070', '833061', '660339', '551238', '507392', '361525', '39059', '7493', '5498', '662', '2075650', '1531289', '35507625', '2071559', '3790414', '876538', '2736912', '833069', '3811381', '2274567', '2876849', '1329424', '2284665', '10857341', '9542236', '4854022', '4711751', '3130783', '2014307', '1999930', '1831282', '1447338', '713586', '522162', '12678919', '10757278', '3880457', '3025033', '2808635', '2075702', '699946', '3812111', '433594', '482934', '11582939', '7517126', '1048663', '388862', '2672587', '2253755', '403846', '393955', '4788084', '4505848', '12124794', '7542235', '6663083', '1759016', '10486525', '10486523', '10486521', '10486519', '10254116', '4723261', '1420150', '1049024', '964707', '764127', '419137', '1329423', '2990510', '1045216', '760336', '6003', '2019724', '6680396', '70620']\n"
     ]
    }
   ],
   "source": [
    "temp = []\n",
    "temp.extend(rsDict[2])\n",
    "temp.extend(rsDict[2])\n",
    "print(temp)"
   ]
  },
  {
   "cell_type": "code",
   "execution_count": 362,
   "metadata": {},
   "outputs": [],
   "source": [
    "# Export the identified rsIDs in a format (space delimited) that can be read by plink. \n",
    "#It will be used to extract the loci of interest from the VCFs\n",
    "#Need to assign number for each user (no mix-ups) and arrange to delete at the end of the pipeline\n",
    "\n",
    "with open('temp_rsids.txt', 'a+') as f:\n",
    "    for item in selected_rsids:\n",
    "        f.write(\"rs{} \".format(item))"
   ]
  },
  {
   "cell_type": "markdown",
   "metadata": {},
   "source": [
    "##### 2. Upload VCFs and create patient - rsID matrix\n",
    "\n",
    "I am currently working with the VCF for chr21 and chr22 (smallest autosomal) and chrY (doesn't have any rsIDs? Will it throw an error?) from [1000 genomes](ftp://ftp-trace.ncbi.nih.gov/1000genomes/ftp/release/20130502/) (downloaded on 10/13/2017)\n"
   ]
  },
  {
   "cell_type": "code",
   "execution_count": 26,
   "metadata": {
    "collapsed": true
   },
   "outputs": [],
   "source": [
    "from os import system, listdir\n",
    "import re"
   ]
  },
  {
   "cell_type": "code",
   "execution_count": 38,
   "metadata": {},
   "outputs": [
    {
     "name": "stdout",
     "output_type": "stream",
     "text": [
      "Please enter the directory path where the vcf.gz files are located: VCFs\n"
     ]
    }
   ],
   "source": [
    "#In Flask path will be the directory from which to upload. \n",
    "#A temp directory with the same name will be created in the server\n",
    "\n",
    "path = input(\"Please enter the directory path where the vcf.gz files are located: \")"
   ]
  },
  {
   "cell_type": "code",
   "execution_count": 84,
   "metadata": {},
   "outputs": [],
   "source": [
    "# Create lists of all the uploaded VCFs and all the file prefixes (to be carried as file names during plink processing)\n",
    "\n",
    "files = listdir(path)\n",
    "if len(re.findall('.vcf.gz', str(files)))!=len(files): # checks that all files are .vcf.gz\n",
    "    print(\"The files you uploaded are not in the <name>.vcf.gz format. Please check your uploaded folder and try again.\")\n",
    "else:\n",
    "    prefix = [re.sub('.vcf.gz', '', file) for file in files]\n",
    "#chrs 25 & 26 is chr22 duplicated. "
   ]
  },
  {
   "cell_type": "code",
   "execution_count": 78,
   "metadata": {},
   "outputs": [],
   "source": [
    "#The following function requires installation of plink 1.9 from https://www.cog-genomics.org/plink2 at the PATH directory\n",
    "\n",
    "def ExtractRsID(Path, Prefix):\n",
    "    print(\"Processing {}\".format(Prefix))\n",
    "    system('plink --vcf {}/{}.vcf.gz --recode12 --tab --extract temp_rsids.txt --out {}'.format(Path, Prefix,Prefix))"
   ]
  },
  {
   "cell_type": "code",
   "execution_count": 88,
   "metadata": {},
   "outputs": [
    {
     "name": "stderr",
     "output_type": "stream",
     "text": [
      "\r",
      "                                                                               \r",
      "\r",
      "N/A% (0 of 5) |                          | Elapsed Time: 0:00:00 ETA:  --:--:--"
     ]
    },
    {
     "name": "stdout",
     "output_type": "stream",
     "text": [
      "Processing chr22\n",
      "Processing chr21\n",
      "Processing chrY\n",
      "Processing chr25\n",
      "Processing chr26\n"
     ]
    },
    {
     "name": "stderr",
     "output_type": "stream",
     "text": [
      "100% (5 of 5) |###########################| Elapsed Time: 0:01:51 Time: 0:01:51\n",
      "Process ForkPoolWorker-42:\n",
      "Process ForkPoolWorker-40:\n",
      "Process ForkPoolWorker-43:\n",
      "Process ForkPoolWorker-39:\n",
      "Process ForkPoolWorker-41:\n",
      "Traceback (most recent call last):\n",
      "Traceback (most recent call last):\n",
      "Traceback (most recent call last):\n",
      "Traceback (most recent call last):\n",
      "  File \"/usr/local/Cellar/python3/3.6.2/Frameworks/Python.framework/Versions/3.6/lib/python3.6/multiprocessing/process.py\", line 249, in _bootstrap\n",
      "    self.run()\n",
      "Traceback (most recent call last):\n",
      "  File \"/usr/local/Cellar/python3/3.6.2/Frameworks/Python.framework/Versions/3.6/lib/python3.6/multiprocessing/process.py\", line 249, in _bootstrap\n",
      "    self.run()\n",
      "  File \"/usr/local/Cellar/python3/3.6.2/Frameworks/Python.framework/Versions/3.6/lib/python3.6/multiprocessing/process.py\", line 249, in _bootstrap\n",
      "    self.run()\n",
      "  File \"/usr/local/Cellar/python3/3.6.2/Frameworks/Python.framework/Versions/3.6/lib/python3.6/multiprocessing/process.py\", line 93, in run\n",
      "    self._target(*self._args, **self._kwargs)\n",
      "  File \"/usr/local/Cellar/python3/3.6.2/Frameworks/Python.framework/Versions/3.6/lib/python3.6/multiprocessing/process.py\", line 249, in _bootstrap\n",
      "    self.run()\n",
      "  File \"/usr/local/Cellar/python3/3.6.2/Frameworks/Python.framework/Versions/3.6/lib/python3.6/multiprocessing/process.py\", line 93, in run\n",
      "    self._target(*self._args, **self._kwargs)\n",
      "  File \"/usr/local/Cellar/python3/3.6.2/Frameworks/Python.framework/Versions/3.6/lib/python3.6/multiprocessing/pool.py\", line 108, in worker\n",
      "    task = get()\n",
      "  File \"/usr/local/Cellar/python3/3.6.2/Frameworks/Python.framework/Versions/3.6/lib/python3.6/multiprocessing/process.py\", line 93, in run\n",
      "    self._target(*self._args, **self._kwargs)\n",
      "  File \"/usr/local/Cellar/python3/3.6.2/Frameworks/Python.framework/Versions/3.6/lib/python3.6/multiprocessing/process.py\", line 249, in _bootstrap\n",
      "    self.run()\n",
      "  File \"/usr/local/Cellar/python3/3.6.2/Frameworks/Python.framework/Versions/3.6/lib/python3.6/multiprocessing/process.py\", line 93, in run\n",
      "    self._target(*self._args, **self._kwargs)\n",
      "  File \"/usr/local/Cellar/python3/3.6.2/Frameworks/Python.framework/Versions/3.6/lib/python3.6/multiprocessing/pool.py\", line 108, in worker\n",
      "    task = get()\n",
      "  File \"/usr/local/Cellar/python3/3.6.2/Frameworks/Python.framework/Versions/3.6/lib/python3.6/multiprocessing/queues.py\", line 342, in get\n",
      "    res = self._reader.recv_bytes()\n",
      "  File \"/usr/local/Cellar/python3/3.6.2/Frameworks/Python.framework/Versions/3.6/lib/python3.6/multiprocessing/process.py\", line 93, in run\n",
      "    self._target(*self._args, **self._kwargs)\n",
      "  File \"/usr/local/Cellar/python3/3.6.2/Frameworks/Python.framework/Versions/3.6/lib/python3.6/multiprocessing/pool.py\", line 108, in worker\n",
      "    task = get()\n",
      "  File \"/usr/local/Cellar/python3/3.6.2/Frameworks/Python.framework/Versions/3.6/lib/python3.6/multiprocessing/pool.py\", line 108, in worker\n",
      "    task = get()\n",
      "  File \"/usr/local/Cellar/python3/3.6.2/Frameworks/Python.framework/Versions/3.6/lib/python3.6/multiprocessing/pool.py\", line 108, in worker\n",
      "    task = get()\n",
      "  File \"/usr/local/Cellar/python3/3.6.2/Frameworks/Python.framework/Versions/3.6/lib/python3.6/multiprocessing/connection.py\", line 216, in recv_bytes\n",
      "    buf = self._recv_bytes(maxlength)\n",
      "  File \"/usr/local/Cellar/python3/3.6.2/Frameworks/Python.framework/Versions/3.6/lib/python3.6/multiprocessing/queues.py\", line 341, in get\n",
      "    with self._rlock:\n",
      "  File \"/usr/local/Cellar/python3/3.6.2/Frameworks/Python.framework/Versions/3.6/lib/python3.6/multiprocessing/queues.py\", line 341, in get\n",
      "    with self._rlock:\n",
      "  File \"/usr/local/Cellar/python3/3.6.2/Frameworks/Python.framework/Versions/3.6/lib/python3.6/multiprocessing/synchronize.py\", line 96, in __enter__\n",
      "    return self._semlock.__enter__()\n",
      "  File \"/usr/local/Cellar/python3/3.6.2/Frameworks/Python.framework/Versions/3.6/lib/python3.6/multiprocessing/queues.py\", line 341, in get\n",
      "    with self._rlock:\n",
      "  File \"/usr/local/Cellar/python3/3.6.2/Frameworks/Python.framework/Versions/3.6/lib/python3.6/multiprocessing/queues.py\", line 341, in get\n",
      "    with self._rlock:\n",
      "  File \"/usr/local/Cellar/python3/3.6.2/Frameworks/Python.framework/Versions/3.6/lib/python3.6/multiprocessing/synchronize.py\", line 96, in __enter__\n",
      "    return self._semlock.__enter__()\n",
      "  File \"/usr/local/Cellar/python3/3.6.2/Frameworks/Python.framework/Versions/3.6/lib/python3.6/multiprocessing/connection.py\", line 407, in _recv_bytes\n",
      "    buf = self._recv(4)\n",
      "KeyboardInterrupt\n",
      "  File \"/usr/local/Cellar/python3/3.6.2/Frameworks/Python.framework/Versions/3.6/lib/python3.6/multiprocessing/synchronize.py\", line 96, in __enter__\n",
      "    return self._semlock.__enter__()\n",
      "  File \"/usr/local/Cellar/python3/3.6.2/Frameworks/Python.framework/Versions/3.6/lib/python3.6/multiprocessing/synchronize.py\", line 96, in __enter__\n",
      "    return self._semlock.__enter__()\n",
      "  File \"/usr/local/Cellar/python3/3.6.2/Frameworks/Python.framework/Versions/3.6/lib/python3.6/multiprocessing/connection.py\", line 379, in _recv\n",
      "    chunk = read(handle, remaining)\n",
      "KeyboardInterrupt\n",
      "KeyboardInterrupt\n",
      "KeyboardInterrupt\n",
      "KeyboardInterrupt\n"
     ]
    }
   ],
   "source": [
    "# Useful example: http://wltrimbl.github.io/2014-06-10-spelman/intermediate/python/04-multiprocessing.html\n",
    "import multiprocessing\n",
    "import progressbar\n",
    "\n",
    "bar = progressbar.ProgressBar()\n",
    "pool = multiprocessing.Pool(len(files)) # run as many processes as vcfs. The default is the number of CPU cores.\n",
    "results = [pool.apply_async( ExtractRsID, (path, p) ) for p in prefix]\n",
    "for result in bar(results):\n",
    "    result.get()\n",
    "#chr25 and chr26 is chr22 duplicated. The set of 3 chr (21,22,Y) took 1min6sec, set of 4 (= no. of cores) 1min18sec\n",
    "\n",
    "## OK so this is not THAT fast (in my computer) perhaps using the faster cores at NCBI will help\n",
    "## Implement some sort of timer in the web interface of the app\n",
    "## http://www.java2s.com/Tutorial/Java/0240__Swing/Timerbasedanimation.htm"
   ]
  },
  {
   "cell_type": "code",
   "execution_count": 113,
   "metadata": {},
   "outputs": [
    {
     "name": "stdout",
     "output_type": "stream",
     "text": [
      "<callable_iterator object at 0x10832df98>\n"
     ]
    }
   ],
   "source": [
    "#check for missing ped files\n",
    "\n",
    "#files I have\n",
    "\n",
    "#expected files\n",
    "\n",
    "#make temp txt with ped files to merge\n",
    "\n",
    "#here merge all files\n",
    "#system('plink --file output.ped --recodeAD --out twostep')\n"
   ]
  },
  {
   "cell_type": "code",
   "execution_count": null,
   "metadata": {
    "collapsed": true
   },
   "outputs": [],
   "source": []
  }
 ],
 "metadata": {
  "kernelspec": {
   "display_name": "Python 3",
   "language": "python",
   "name": "python3"
  },
  "language_info": {
   "codemirror_mode": {
    "name": "ipython",
    "version": 3
   },
   "file_extension": ".py",
   "mimetype": "text/x-python",
   "name": "python",
   "nbconvert_exporter": "python",
   "pygments_lexer": "ipython3",
   "version": "3.6.2"
  }
 },
 "nbformat": 4,
 "nbformat_minor": 2
}
