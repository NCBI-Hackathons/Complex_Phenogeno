{
 "cells": [
  {
   "cell_type": "markdown",
   "metadata": {},
   "source": [
    "### Complex Pheno/Geno workflow\n",
    "\n",
    "This is the Complex Pheno/Geno workflow to be implemented as a web-based app using FLASK"
   ]
  },
  {
   "cell_type": "code",
   "execution_count": 2,
   "metadata": {
    "collapsed": true
   },
   "outputs": [],
   "source": [
    "from Bio import Entrez\n",
    "from Settings import EMAIL # requires the presence of file Settings.py in current directory "
   ]
  },
  {
   "cell_type": "code",
   "execution_count": 3,
   "metadata": {
    "collapsed": true
   },
   "outputs": [],
   "source": [
    "Entrez.email = EMAIL\n",
    "# At Settings.py file: EMAIL = <username>@<something>.<something>\n",
    "# This is the email you have used to register in NCBI"
   ]
  },
  {
   "cell_type": "markdown",
   "metadata": {},
   "source": [
    "##### 1. Enter rsID\n",
    "User is asked to enter the rsID that they know is associated with the complex disease of interest.\n",
    "They are given the option to proceed with the analysis or to use PhenVar in order to check that the specific rsID is returning expected results (wordcloud and D3 graph) "
   ]
  },
  {
   "cell_type": "code",
   "execution_count": 5,
   "metadata": {},
   "outputs": [
    {
     "name": "stdout",
     "output_type": "stream",
     "text": [
      "Please enter an rsID number (do not include the letters 'rs'): 800292\n"
     ]
    }
   ],
   "source": [
    "#get PMIDs from single rsID \n",
    "\n",
    "ID =input(\"Please enter an rsID number (do not include the letters 'rs'): \")"
   ]
  },
  {
   "cell_type": "code",
   "execution_count": 6,
   "metadata": {},
   "outputs": [
    {
     "name": "stdout",
     "output_type": "stream",
     "text": [
      "Do you want to proceed with analysis?\n",
      "Answering \"no\" will redirect to the PhenVar results for the given rsID. \n",
      "Answering \"yes\" will take you to the next step where you will be required to enter VCF files. \n",
      "Your answer: no\n"
     ]
    }
   ],
   "source": [
    "print('Do you want to proceed with analysis?')\n",
    "print('Answering \"no\" will redirect to the PhenVar results for the given rsID. ')\n",
    "print('Answering \"yes\" will take you to the next step where you will be required to enter VCF files. ')\n",
    "conditional = input('Your answer: ')"
   ]
  },
  {
   "cell_type": "code",
   "execution_count": 125,
   "metadata": {},
   "outputs": [
    {
     "name": "stdout",
     "output_type": "stream",
     "text": [
      "https://phenvar.colorado.edu/results/?rsids=800292&visualization=png-wordcloud&visualization=js-graph&normalization_type=default\n"
     ]
    }
   ],
   "source": [
    "conditional = conditional.lower()\n",
    "if conditional == 'no':\n",
    "    url = 'https://phenvar.colorado.edu/results/?rsids='+ID+'&visualization=png-wordcloud&visualization=js-graph&normalization_type=default'\n",
    "    print(url)\n",
    "    \n",
    "    import webbrowser\n",
    "    webbrowser.open_new(url)\n",
    "    #also works in Terminal as: python -m webbrowser -t \"http://www.python.org\" \n",
    "    \n",
    "elif conditional != 'yes':\n",
    "    print('Please go back and enter either \"yes\" or \"no\".')"
   ]
  },
  {
   "cell_type": "code",
   "execution_count": 216,
   "metadata": {},
   "outputs": [
    {
     "name": "stdout",
     "output_type": "stream",
     "text": [
      "There were 128 PMIDs retrieved that are related to rs800292\n"
     ]
    }
   ],
   "source": [
    "data =  Entrez.read(Entrez.elink(dbfrom='snp', db = 'pubmed', linkname='snp_pubmed_cited', id=ID))\n",
    "pmids =  [id_dict['Id'] for id_dict in data[0]['LinkSetDb'][0][\"Link\"]]\n",
    "print('There were {} PMIDs retrieved that are related to rs{}'.format(len(pmids), ID))"
   ]
  },
  {
   "cell_type": "code",
   "execution_count": 220,
   "metadata": {
    "collapsed": true
   },
   "outputs": [],
   "source": [
    "rsids = []\n",
    "for pmid in pmids:\n",
    "    try:\n",
    "        data = Entrez.read(Entrez.elink(dbfrom='pubmed',db='snp',linkname='pubmed_snp_cited',id=pmid))\n",
    "        rsids.extend([id_dict['Id'] for id_dict in data[0]['LinkSetDb'][0]['Link']])\n",
    "    except:\n",
    "        print(\"There has been some problem with your connection. Please try again.\")\n",
    "        import sys\n",
    "        sys.exit() #terminates all scripts running. To terminate only script that contains this try/except use quit()"
   ]
  },
  {
   "cell_type": "code",
   "execution_count": 385,
   "metadata": {},
   "outputs": [
    {
     "name": "stdout",
     "output_type": "stream",
     "text": [
      "A total of 757 unique rsIDs were retrieved from 128 PMIDs using rs800292 as a search term\n",
      "\n"
     ]
    }
   ],
   "source": [
    "#remove duplicates and turn dict to a list of all the rsIDs, regardless of how many publications support them\n",
    "rsidSet = [id for id in set(rsids)]\n",
    "\n",
    "print('A total of {} unique rsIDs were retrieved from {} PMIDs using rs{} as a search term\\n'.format(len(rsidSet), len(pmids),ID))"
   ]
  },
  {
   "cell_type": "markdown",
   "metadata": {},
   "source": [
    "##### 2. Filter retrieved rsIDs by number of supporting publications"
   ]
  },
  {
   "cell_type": "code",
   "execution_count": 398,
   "metadata": {
    "collapsed": true
   },
   "outputs": [],
   "source": [
    "#create a dictionary where the key is the number of publications supporting each rsID and values are the actual rsIDs\n",
    "from collections import Counter\n",
    "from Functions import rev_dict"
   ]
  },
  {
   "cell_type": "code",
   "execution_count": 399,
   "metadata": {
    "collapsed": true
   },
   "outputs": [],
   "source": [
    "rsDict = rev_dict(Counter(rsids)) \n",
    " \n",
    "#The following creates a list with the distinct numbers of supporting information in the results, ordered\n",
    "numPmids = [i for i in set(rsDict.keys())]\n",
    "numPmids.sort()"
   ]
  },
  {
   "cell_type": "code",
   "execution_count": 400,
   "metadata": {},
   "outputs": [
    {
     "name": "stdout",
     "output_type": "stream",
     "text": [
      "201 rsIDs are cited by more than 1 PMIDs\n",
      "99 rsIDs are cited by more than 2 PMIDs\n",
      "59 rsIDs are cited by more than 3 PMIDs\n",
      "49 rsIDs are cited by more than 4 PMIDs\n",
      "39 rsIDs are cited by more than 5 PMIDs\n",
      "36 rsIDs are cited by more than 6 PMIDs\n",
      "28 rsIDs are cited by more than 7 PMIDs\n",
      "24 rsIDs are cited by more than 8 PMIDs\n",
      "19 rsIDs are cited by more than 9 PMIDs\n",
      "17 rsIDs are cited by more than 10 PMIDs\n",
      "16 rsIDs are cited by more than 11 PMIDs\n",
      "14 rsIDs are cited by more than 12 PMIDs\n",
      "13 rsIDs are cited by more than 13 PMIDs\n",
      "12 rsIDs are cited by more than 15 PMIDs\n",
      "11 rsIDs are cited by more than 16 PMIDs\n",
      "9 rsIDs are cited by more than 18 PMIDs\n",
      "8 rsIDs are cited by more than 20 PMIDs\n",
      "7 rsIDs are cited by more than 23 PMIDs\n",
      "6 rsIDs are cited by more than 24 PMIDs\n",
      "5 rsIDs are cited by more than 26 PMIDs\n",
      "4 rsIDs are cited by more than 32 PMIDs\n",
      "3 rsIDs are cited by more than 37 PMIDs\n",
      "2 rsIDs are cited by more than 64 PMIDs\n",
      "1 rsIDs are cited by more than 84 PMIDs\n",
      "0 rsIDs are cited by more than 128 PMIDs\n"
     ]
    }
   ],
   "source": [
    "temp = rsiDict.copy()\n",
    "#[item for sublist in temp.values() for item in sublist]\n",
    "for i in numPmids:\n",
    "    temp.pop(i,0)\n",
    "    print('{} rsIDs are cited by more than {} PMIDs'.format(len([item for sublist in temp.values() for item in sublist]), i))"
   ]
  },
  {
   "cell_type": "code",
   "execution_count": 426,
   "metadata": {},
   "outputs": [
    {
     "name": "stdout",
     "output_type": "stream",
     "text": [
      "What is the minimum acceptable number of publications supporting each rsID you want to consider?\n",
      "Possible values are between 1 and 84.\n",
      "2\n",
      "\n",
      "You have selected to analyse 201 different rsIDs that are co-cited together with rs800292 (included).\n"
     ]
    }
   ],
   "source": [
    "condition_filter = False\n",
    "while condition_filter == False:\n",
    "    print(\"What is the minimum acceptable number of publications supporting each rsID you want to consider?\")\n",
    "    print(\"Possible values are between 1 and {}.\".format(max(numPmids[0:len(numPmids)-1])))\n",
    "    no = int(input(''))\n",
    "    if no <= max(numPmids[0:len(numPmids)-1]):\n",
    "        selected_rsids = []\n",
    "        for i in numPmids[::-1]:\n",
    "            if i >= no:\n",
    "                selected_rsids.extend(rsDict[i])\n",
    "        selected_rsids = set(selected_rsids)\n",
    "        condition_filter = True\n",
    "    else:\n",
    "        print(\"You have not entered a value between 1 and {}. Please retry.\\n\".format(max(numPmids[0:len(numPmids)-1])))\n",
    "print('\\nYou have selected to analyse {} different rsIDs that are co-cited together with rs{} (included).'.format(len(selected_rsids), ID))"
   ]
  },
  {
   "cell_type": "code",
   "execution_count": 362,
   "metadata": {
    "collapsed": true
   },
   "outputs": [],
   "source": [
    "# Export the identified rsIDs in a format (space delimited) that can be read by plink. \n",
    "#It will be used to extract the loci of interest from the VCFs\n",
    "#Need to assign number for each user (no mix-ups) and arrange to delete at the end of the pipeline\n",
    "\n",
    "with open('temp_rsids.txt', 'a+') as f:\n",
    "    for item in selected_rsids:\n",
    "        f.write(\"rs{} \".format(item))"
   ]
  },
  {
   "cell_type": "markdown",
   "metadata": {},
   "source": [
    "##### 2. Upload VCFs and create patient - rsID matrix\n",
    "\n",
    "I am currently working with the VCF for chr22 (smallest autosomal)from [1000 genomes](ftp://ftp-trace.ncbi.nih.gov/1000genomes/ftp/release/20130502/) (downloaded on 10/13/2017)\n"
   ]
  },
  {
   "cell_type": "code",
   "execution_count": 1,
   "metadata": {
    "collapsed": true
   },
   "outputs": [],
   "source": [
    "from os import system, listdir, chdir, getcwd\n",
    "import re"
   ]
  },
  {
   "cell_type": "code",
   "execution_count": 510,
   "metadata": {
    "collapsed": true
   },
   "outputs": [],
   "source": [
    "#In Flask path will be the directory from which to upload. \n",
    "#A temp directory with the same name will be created in the server"
   ]
  },
  {
   "cell_type": "code",
   "execution_count": 2,
   "metadata": {},
   "outputs": [
    {
     "name": "stdout",
     "output_type": "stream",
     "text": [
      "['Chr1', 'Chr22']\n"
     ]
    }
   ],
   "source": [
    "path = '/Users/nikiathanasiadou/NIH/'\n",
    "files = listdir(path + 'Inputs')\n",
    "vcfs = [i for i in filter(lambda x: x.endswith('.vcf.gz'), files)]\n",
    "prefix = [re.sub('.vcf.gz', '', vcf) for vcf in vcfs]\n",
    "print(prefix)"
   ]
  },
  {
   "cell_type": "code",
   "execution_count": 32,
   "metadata": {},
   "outputs": [
    {
     "data": {
      "text/plain": [
       "0"
      ]
     },
     "execution_count": 32,
     "metadata": {},
     "output_type": "execute_result"
    }
   ],
   "source": [
    "system('plink --vcf /Users/nikiathanasiadou/NIH/Inputs/Chr22.vcf.gz --recode --extract /Users/nikiathanasiadou/NIH/Outputs/rsids.txt --out Chr22')"
   ]
  },
  {
   "cell_type": "code",
   "execution_count": 34,
   "metadata": {},
   "outputs": [
    {
     "data": {
      "text/plain": [
       "0"
      ]
     },
     "execution_count": 34,
     "metadata": {},
     "output_type": "execute_result"
    }
   ],
   "source": [
    "system('plink --file Chr22 --recodeAD --out final')"
   ]
  },
  {
   "cell_type": "code",
   "execution_count": 37,
   "metadata": {
    "collapsed": true
   },
   "outputs": [],
   "source": [
    "import pandas as pd"
   ]
  },
  {
   "cell_type": "code",
   "execution_count": 66,
   "metadata": {},
   "outputs": [
    {
     "data": {
      "text/html": [
       "<div>\n",
       "<style>\n",
       "    .dataframe thead tr:only-child th {\n",
       "        text-align: right;\n",
       "    }\n",
       "\n",
       "    .dataframe thead th {\n",
       "        text-align: left;\n",
       "    }\n",
       "\n",
       "    .dataframe tbody tr th {\n",
       "        vertical-align: top;\n",
       "    }\n",
       "</style>\n",
       "<table border=\"1\" class=\"dataframe\">\n",
       "  <thead>\n",
       "    <tr style=\"text-align: right;\">\n",
       "      <th></th>\n",
       "      <th>FID</th>\n",
       "      <th>rs9624909_T</th>\n",
       "      <th>rs9613094_G</th>\n",
       "      <th>rs9608466_A</th>\n",
       "      <th>rs59371099_A</th>\n",
       "      <th>rs740223_A</th>\n",
       "      <th>rs5749088_T</th>\n",
       "      <th>rs3205187_C</th>\n",
       "      <th>rs713685_T</th>\n",
       "      <th>rs6518799_A</th>\n",
       "      <th>rs743751_G</th>\n",
       "      <th>rs61741884_T</th>\n",
       "      <th>rs855791_A</th>\n",
       "      <th>rs8135665_T</th>\n",
       "    </tr>\n",
       "  </thead>\n",
       "  <tbody>\n",
       "    <tr>\n",
       "      <th>0</th>\n",
       "      <td>HG00096</td>\n",
       "      <td>1</td>\n",
       "      <td>1</td>\n",
       "      <td>0</td>\n",
       "      <td>2</td>\n",
       "      <td>0</td>\n",
       "      <td>0</td>\n",
       "      <td>2</td>\n",
       "      <td>0</td>\n",
       "      <td>0</td>\n",
       "      <td>0</td>\n",
       "      <td>1</td>\n",
       "      <td>1</td>\n",
       "      <td>2</td>\n",
       "    </tr>\n",
       "    <tr>\n",
       "      <th>1</th>\n",
       "      <td>HG00097</td>\n",
       "      <td>0</td>\n",
       "      <td>0</td>\n",
       "      <td>0</td>\n",
       "      <td>0</td>\n",
       "      <td>1</td>\n",
       "      <td>1</td>\n",
       "      <td>0</td>\n",
       "      <td>0</td>\n",
       "      <td>0</td>\n",
       "      <td>0</td>\n",
       "      <td>0</td>\n",
       "      <td>0</td>\n",
       "      <td>1</td>\n",
       "    </tr>\n",
       "    <tr>\n",
       "      <th>2</th>\n",
       "      <td>HG00099</td>\n",
       "      <td>1</td>\n",
       "      <td>0</td>\n",
       "      <td>1</td>\n",
       "      <td>0</td>\n",
       "      <td>0</td>\n",
       "      <td>0</td>\n",
       "      <td>0</td>\n",
       "      <td>0</td>\n",
       "      <td>0</td>\n",
       "      <td>0</td>\n",
       "      <td>1</td>\n",
       "      <td>1</td>\n",
       "      <td>0</td>\n",
       "    </tr>\n",
       "    <tr>\n",
       "      <th>3</th>\n",
       "      <td>HG00100</td>\n",
       "      <td>2</td>\n",
       "      <td>0</td>\n",
       "      <td>0</td>\n",
       "      <td>0</td>\n",
       "      <td>2</td>\n",
       "      <td>2</td>\n",
       "      <td>2</td>\n",
       "      <td>1</td>\n",
       "      <td>0</td>\n",
       "      <td>0</td>\n",
       "      <td>1</td>\n",
       "      <td>2</td>\n",
       "      <td>0</td>\n",
       "    </tr>\n",
       "    <tr>\n",
       "      <th>4</th>\n",
       "      <td>HG00101</td>\n",
       "      <td>0</td>\n",
       "      <td>0</td>\n",
       "      <td>0</td>\n",
       "      <td>0</td>\n",
       "      <td>0</td>\n",
       "      <td>0</td>\n",
       "      <td>1</td>\n",
       "      <td>0</td>\n",
       "      <td>0</td>\n",
       "      <td>0</td>\n",
       "      <td>0</td>\n",
       "      <td>1</td>\n",
       "      <td>0</td>\n",
       "    </tr>\n",
       "  </tbody>\n",
       "</table>\n",
       "</div>"
      ],
      "text/plain": [
       "       FID  rs9624909_T  rs9613094_G  rs9608466_A  rs59371099_A  rs740223_A  \\\n",
       "0  HG00096            1            1            0             2           0   \n",
       "1  HG00097            0            0            0             0           1   \n",
       "2  HG00099            1            0            1             0           0   \n",
       "3  HG00100            2            0            0             0           2   \n",
       "4  HG00101            0            0            0             0           0   \n",
       "\n",
       "   rs5749088_T  rs3205187_C  rs713685_T  rs6518799_A  rs743751_G  \\\n",
       "0            0            2           0            0           0   \n",
       "1            1            0           0            0           0   \n",
       "2            0            0           0            0           0   \n",
       "3            2            2           1            0           0   \n",
       "4            0            1           0            0           0   \n",
       "\n",
       "   rs61741884_T  rs855791_A  rs8135665_T  \n",
       "0             1           1            2  \n",
       "1             0           0            1  \n",
       "2             1           1            0  \n",
       "3             1           2            0  \n",
       "4             0           1            0  "
      ]
     },
     "execution_count": 66,
     "metadata": {},
     "output_type": "execute_result"
    }
   ],
   "source": [
    "table = pd.read_table('final.raw', sep=' ')\n",
    "table.drop(table.columns[[1, 2,3,4,5,6]], axis=1, inplace=True)\n",
    "table.drop(table.columns[[ i for i, word in enumerate(list(table)) if word.endswith('HET') ]], axis=1, inplace=True)\n",
    "table.head()\n",
    "#also drop columns that are identical (ie no variation)"
   ]
  },
  {
   "cell_type": "code",
   "execution_count": 532,
   "metadata": {
    "collapsed": true
   },
   "outputs": [],
   "source": []
  }
 ],
 "metadata": {
  "kernelspec": {
   "display_name": "Python 3",
   "language": "python",
   "name": "python3"
  },
  "language_info": {
   "codemirror_mode": {
    "name": "ipython",
    "version": 3
   },
   "file_extension": ".py",
   "mimetype": "text/x-python",
   "name": "python",
   "nbconvert_exporter": "python",
   "pygments_lexer": "ipython3",
   "version": "3.6.2"
  }
 },
 "nbformat": 4,
 "nbformat_minor": 2
}
