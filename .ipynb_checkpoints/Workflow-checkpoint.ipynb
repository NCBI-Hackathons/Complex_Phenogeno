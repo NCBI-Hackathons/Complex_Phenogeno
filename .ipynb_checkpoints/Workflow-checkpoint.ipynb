{
 "cells": [
  {
   "cell_type": "markdown",
   "metadata": {},
   "source": [
    "### Complex Pheno/Geno workflow\n",
    "\n",
    "This is the Complex Pheno/Geno workflow to be implemented as a web-based app using FLASK"
   ]
  },
  {
   "cell_type": "code",
   "execution_count": 2,
   "metadata": {
    "collapsed": true
   },
   "outputs": [],
   "source": [
    "from Bio import Entrez\n",
    "from Settings import EMAIL # requires the presence of file Settings.py in current directory "
   ]
  },
  {
   "cell_type": "code",
   "execution_count": 3,
   "metadata": {
    "collapsed": true
   },
   "outputs": [],
   "source": [
    "Entrez.email = EMAIL\n",
    "# At Settings.py file: EMAIL = <username>@<something>.<something>\n",
    "# This is the email you hav eused to register in NCBI"
   ]
  },
  {
   "cell_type": "markdown",
   "metadata": {},
   "source": [
    "##### 1. Enter rsID\n",
    "User is asked to enter the rsID that they know is associated with the complex disease of interest.\n",
    "They are given the option to proceed with the analysis or to use PhenVar in order to check that the specific rsID is returning expected results (wordcloud and D3 graph) "
   ]
  },
  {
   "cell_type": "code",
   "execution_count": 5,
   "metadata": {},
   "outputs": [
    {
     "name": "stdout",
     "output_type": "stream",
     "text": [
      "Please enter an rsID number (do not include the letters 'rs'): 800292\n"
     ]
    }
   ],
   "source": [
    "#get PMIDs from single rsID \n",
    "\n",
    "ID =input(\"Please enter an rsID number (do not include the letters 'rs'): \")"
   ]
  },
  {
   "cell_type": "code",
   "execution_count": 6,
   "metadata": {},
   "outputs": [
    {
     "name": "stdout",
     "output_type": "stream",
     "text": [
      "Do you want to proceed with analysis?\n",
      "Answering \"no\" will redirect to the PhenVar results for the given rsID. \n",
      "Answering \"yes\" will take you to the next step where you will be required to enter VCF files. \n",
      "Your answer: no\n"
     ]
    }
   ],
   "source": [
    "print('Do you want to proceed with analysis?')\n",
    "print('Answering \"no\" will redirect to the PhenVar results for the given rsID. ')\n",
    "print('Answering \"yes\" will take you to the next step where you will be required to enter VCF files. ')\n",
    "conditional = input('Your answer: ')"
   ]
  },
  {
   "cell_type": "code",
   "execution_count": 7,
   "metadata": {},
   "outputs": [
    {
     "name": "stdout",
     "output_type": "stream",
     "text": [
      "https://phenvar.colorado.edu/results/?rsids=800292&visualization=png-wordcloud&visualization=js-graph&normalization_type=default\n"
     ]
    }
   ],
   "source": [
    "conditional = conditional.lower()\n",
    "if conditional == 'no':\n",
    "    url = 'https://phenvar.colorado.edu/results/?rsids='+ID+'&visualization=png-wordcloud&visualization=js-graph&normalization_type=default'\n",
    "    print(url)\n",
    "    \n",
    "    import webbrowser\n",
    "    webbrowser.open_new(url)\n",
    "    #also works in Terminal as: python -m webbrowser -t \"http://www.python.org\" \n",
    "    \n",
    "elif conditional != 'yes':\n",
    "    print('Please go back and enter either \"yes\" or \"no\".')"
   ]
  },
  {
   "cell_type": "code",
   "execution_count": 8,
   "metadata": {},
   "outputs": [
    {
     "name": "stdout",
     "output_type": "stream",
     "text": [
      "There were 122 PMIDs retrieved that are related to rs800292\n"
     ]
    }
   ],
   "source": [
    "data =  Entrez.read(Entrez.elink(dbfrom='snp', db = 'pubmed', linkname='snp_pubmed_cited', id=ID))\n",
    "pmids =  [id_dict['Id'] for id_dict in data[0]['LinkSetDb'][0][\"Link\"]]\n",
    "print('There were {} PMIDs retrieved that are related to rs{}'.format(len(pmids), ID))"
   ]
  },
  {
   "cell_type": "code",
   "execution_count": 9,
   "metadata": {},
   "outputs": [
    {
     "name": "stdout",
     "output_type": "stream",
     "text": [
      "885 unique rsIDs were retrieved from 122 PMIDs using rs800292 as a search term\n"
     ]
    }
   ],
   "source": [
    "rsids = []\n",
    "for pmid in pmids:\n",
    "    data = Entrez.read(Entrez.elink(dbfrom='pubmed',db='snp',linkname='pubmed_snp_cited',id=pmid))\n",
    "    rsids.extend([id_dict['Id'] for id_dict in data[0]['LinkSetDb'][0]['Link']])\n",
    "rsids = [id for id in set(rsids)] #remove duplicates and turn dict to a list\n",
    "print('{} unique rsIDs were retrieved from {} PMIDs using rs{} as a search term'.format(len(rsids), len(pmids),ID))\n",
    "# Also perhaps use multiple literature evidence supporting each rsID to make the list more specific (strictness criterion)"
   ]
  },
  {
   "cell_type": "code",
   "execution_count": 15,
   "metadata": {},
   "outputs": [],
   "source": [
    "# Export the identified rsIDs in a format (space delimited) that can be read by plink. \n",
    "#It will be used to extract the loci of interest from the VCFs\n",
    "#Need to assign number for each user (no mix-ups) and arrange to delete at the end of the pipeline\n",
    "\n",
    "with open('temp_rsids.txt', 'a+') as f:\n",
    "    for item in rsids:\n",
    "        f.write(\"rs{} \".format(item))"
   ]
  },
  {
   "cell_type": "markdown",
   "metadata": {},
   "source": [
    "##### 2. Upload VCFs and create patient - rsID matrix\n",
    "\n",
    "I am currently working with the VCF for chr21 and chr22 (smallest autosomal) and chrY (doesn't have any rsIDs? Will it throw an error?) from [1000 genomes](ftp://ftp-trace.ncbi.nih.gov/1000genomes/ftp/release/20130502/) (downloaded on 10/13/2017)\n"
   ]
  },
  {
   "cell_type": "code",
   "execution_count": 26,
   "metadata": {
    "collapsed": true
   },
   "outputs": [],
   "source": [
    "from os import system, listdir\n",
    "import re"
   ]
  },
  {
   "cell_type": "code",
   "execution_count": 38,
   "metadata": {},
   "outputs": [
    {
     "name": "stdout",
     "output_type": "stream",
     "text": [
      "Please enter the directory path where the vcf.gz files are located: VCFs\n"
     ]
    }
   ],
   "source": [
    "#In Flask path will be the directory from which to upload. \n",
    "#A temp directory with the same name will be created in the server\n",
    "\n",
    "path = input(\"Please enter the directory path where the vcf.gz files are located: \")"
   ]
  },
  {
   "cell_type": "code",
   "execution_count": 84,
   "metadata": {},
   "outputs": [],
   "source": [
    "# Create lists of all the uploaded VCFs and all the file prefixes (to be carried as file names during plink processing)\n",
    "\n",
    "files = listdir(path)\n",
    "if len(re.findall('.vcf.gz', str(files)))!=len(files): # checks that all files are .vcf.gz\n",
    "    print(\"The files you uploaded are not in the <name>.vcf.gz format. Please check your uploaded folder and try again.\")\n",
    "else:\n",
    "    prefix = [re.sub('.vcf.gz', '', file) for file in files]\n",
    "#chrs 25 & 26 is chr22 duplicated. "
   ]
  },
  {
   "cell_type": "code",
   "execution_count": 78,
   "metadata": {},
   "outputs": [],
   "source": [
    "#The following function requires installation of plink 1.9 from https://www.cog-genomics.org/plink2 at the PATH directory\n",
    "\n",
    "def ExtractRsID(Path, Prefix):\n",
    "    print(\"Processing {}\".format(Prefix))\n",
    "    system('plink --vcf {}/{}.vcf.gz --recode12 --tab --extract temp_rsids.txt --out {}'.format(Path, Prefix,Prefix))"
   ]
  },
  {
   "cell_type": "code",
   "execution_count": 88,
   "metadata": {},
   "outputs": [
    {
     "name": "stderr",
     "output_type": "stream",
     "text": [
      "\r",
      "                                                                               \r",
      "\r",
      "N/A% (0 of 5) |                          | Elapsed Time: 0:00:00 ETA:  --:--:--"
     ]
    },
    {
     "name": "stdout",
     "output_type": "stream",
     "text": [
      "Processing chr22\n",
      "Processing chr21\n",
      "Processing chrY\n",
      "Processing chr25\n",
      "Processing chr26\n"
     ]
    },
    {
     "name": "stderr",
     "output_type": "stream",
     "text": [
      "100% (5 of 5) |###########################| Elapsed Time: 0:01:51 Time: 0:01:51\n"
     ]
    }
   ],
   "source": [
    "# Useful example: http://wltrimbl.github.io/2014-06-10-spelman/intermediate/python/04-multiprocessing.html\n",
    "import multiprocessing\n",
    "import progressbar\n",
    "\n",
    "bar = progressbar.ProgressBar()\n",
    "pool = multiprocessing.Pool(len(files)) # run as many processes as vcfs. The default is the number of CPU cores.\n",
    "results = [pool.apply_async( ExtractRsID, (path, p) ) for p in prefix]\n",
    "for result in bar(results):\n",
    "    result.get()\n",
    "#chr25 and chr26 is chr22 duplicated. The set of 3 chr (21,22,Y) took 1min6sec, set of 4 (= no. of cores) 1min18sec\n",
    "\n",
    "## OK so this is not THAT fast (in my computer) perhaps using the faster cores at NCBI will help\n",
    "## Implement some sort of timer in the web interface of the app\n",
    "## http://www.java2s.com/Tutorial/Java/0240__Swing/Timerbasedanimation.htm"
   ]
  },
  {
   "cell_type": "code",
   "execution_count": 113,
   "metadata": {},
   "outputs": [
    {
     "name": "stdout",
     "output_type": "stream",
     "text": [
      "<callable_iterator object at 0x10832df98>\n"
     ]
    }
   ],
   "source": [
    "#check for missing ped files\n",
    "\n",
    "#files I have\n",
    "\n",
    "#expected files\n",
    "\n",
    "#make temp txt with ped files to merge\n",
    "\n",
    "#here merge all files\n",
    "#system('plink --file output.ped --recodeAD --out twostep')\n"
   ]
  },
  {
   "cell_type": "code",
   "execution_count": null,
   "metadata": {
    "collapsed": true
   },
   "outputs": [],
   "source": []
  }
 ],
 "metadata": {
  "kernelspec": {
   "display_name": "Python 3",
   "language": "python",
   "name": "python3"
  },
  "language_info": {
   "codemirror_mode": {
    "name": "ipython",
    "version": 3
   },
   "file_extension": ".py",
   "mimetype": "text/x-python",
   "name": "python",
   "nbconvert_exporter": "python",
   "pygments_lexer": "ipython3",
   "version": "3.6.2"
  }
 },
 "nbformat": 4,
 "nbformat_minor": 2
}
